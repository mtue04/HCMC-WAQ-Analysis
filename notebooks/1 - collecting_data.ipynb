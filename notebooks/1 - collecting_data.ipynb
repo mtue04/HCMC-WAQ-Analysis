{
 "cells": [
  {
   "cell_type": "markdown",
   "metadata": {},
   "source": [
    "# **1. Data Collection** 🌍  \n",
    "\n",
    "Data for **Ho Chi Minh City** *(Lat: 10.823099, Long: 106.629664)*, covering the period from **01/10/2022** to **30/09/2024**, was sourced from [Open-Meteo](https://open-meteo.com/).  \n",
    "\n",
    "Open-Meteo offers **free, open-access Weather and Air Quality APIs**, making it an excellent choice for non-commercial projects. Key benefits include:  \n",
    "- **No API key or registration required** for data access.  \n",
    "- A codebase licensed under **AGPLv3**, available on GitHub, allowing for **customization** and **self-hosting**.  \n",
    "- Data licensed under **CC BY 4.0**, promoting sharing, adaptation, and attribution compliance.  \n",
    "\n",
    "This robust and flexible API ensures reliable data collection while supporting open-source and creative data initiatives.  \n"
   ]
  },
  {
   "cell_type": "markdown",
   "metadata": {},
   "source": [
    "## Import libraries"
   ]
  },
  {
   "cell_type": "code",
   "execution_count": 1,
   "metadata": {},
   "outputs": [],
   "source": [
    "import openmeteo_requests\n",
    "import requests_cache\n",
    "import pandas as pd\n",
    "from retry_requests import retry\n",
    "import os"
   ]
  },
  {
   "cell_type": "markdown",
   "metadata": {},
   "source": [
    "## Make folder to save data"
   ]
  },
  {
   "cell_type": "code",
   "execution_count": 2,
   "metadata": {},
   "outputs": [
    {
     "name": "stdout",
     "output_type": "stream",
     "text": [
      "Folder '../data' already exists.\n"
     ]
    }
   ],
   "source": [
    "folder_name = \"../data\"\n",
    "\n",
    "if not os.path.exists(folder_name):\n",
    "    os.makedirs(folder_name)\n",
    "    print(f\"Folder '{folder_name}' has been created!\")\n",
    "else:\n",
    "    print(f\"Folder '{folder_name}' already exists.\")"
   ]
  },
  {
   "cell_type": "markdown",
   "metadata": {},
   "source": [
    "## Usage"
   ]
  },
  {
   "cell_type": "markdown",
   "metadata": {},
   "source": [
    "### Weather data"
   ]
  },
  {
   "cell_type": "markdown",
   "metadata": {},
   "source": [
    "#### Function to crawl weather data"
   ]
  },
  {
   "cell_type": "code",
   "execution_count": 2,
   "metadata": {},
   "outputs": [],
   "source": [
    "def crawl_weather_data(start_date: str, end_date: str, output_file: str):\n",
    "    \"\"\"\n",
    "    Crawl weather data from Open-Meteo API and save to CSV file.\n",
    "\n",
    "    Parameters:\n",
    "    - start_date (str): The start date in \"YYYY-MM-DD\" format.\n",
    "    - end_date (str): The end date in \"YYYY-MM-DD\" format.\n",
    "    - output_file (str): The name of the output CSV file.\n",
    "    \"\"\"\n",
    "\n",
    "    # Setup cache and retry mechanism\n",
    "    cache_session = requests_cache.CachedSession(\".cache\", expire_after=-1)\n",
    "    retry_session = retry(cache_session, retries=5, backoff_factor=0.2)\n",
    "    openmeteo = openmeteo_requests.Client(session=retry_session)\n",
    "\n",
    "    # Open-Meteo API endpoint and parameters\n",
    "    url = \"https://archive-api.open-meteo.com/v1/archive\"\n",
    "    params = {\n",
    "        \"latitude\": 10.823099,\n",
    "        \"longitude\": 106.629664,\n",
    "        \"start_date\": start_date,\n",
    "        \"end_date\": end_date,\n",
    "        \"hourly\": [\n",
    "            \"temperature_2m\",\n",
    "            \"relative_humidity_2m\",\n",
    "            \"dew_point_2m\",\n",
    "            \"apparent_temperature\",\n",
    "            \"precipitation\",\n",
    "            \"weather_code\",\n",
    "            \"cloud_cover\",\n",
    "            \"vapour_pressure_deficit\",\n",
    "            \"wind_speed_10m\",\n",
    "            \"wind_direction_10m\",\n",
    "        ],\n",
    "    }\n",
    "\n",
    "    # Fetch weather data\n",
    "    try:\n",
    "        responses = openmeteo.weather_api(url, params=params)\n",
    "        response = responses[0]\n",
    "        hourly = response.Hourly()\n",
    "\n",
    "        # Process hourly data\n",
    "        hourly_data = {\n",
    "            \"date_time\": pd.date_range(\n",
    "                start=pd.to_datetime(hourly.Time(), unit=\"s\", utc=True),\n",
    "                end=pd.to_datetime(hourly.TimeEnd(), unit=\"s\", utc=True),\n",
    "                freq=pd.Timedelta(seconds=hourly.Interval()),\n",
    "                inclusive=\"left\",\n",
    "            ),\n",
    "            \"temperature_2m\": hourly.Variables(0).ValuesAsNumpy(),\n",
    "            \"relative_humidity_2m\": hourly.Variables(1).ValuesAsNumpy(),\n",
    "            \"dew_point_2m\": hourly.Variables(2).ValuesAsNumpy(),\n",
    "            \"apparent_temperature\": hourly.Variables(3).ValuesAsNumpy(),\n",
    "            \"precipitation\": hourly.Variables(4).ValuesAsNumpy(),\n",
    "            \"cloud_cover\": hourly.Variables(6).ValuesAsNumpy(),\n",
    "            \"vapour_pressure_deficit\": hourly.Variables(7).ValuesAsNumpy(),\n",
    "            \"wind_speed_10m\": hourly.Variables(8).ValuesAsNumpy(),\n",
    "            \"wind_direction_10m\": hourly.Variables(9).ValuesAsNumpy(),\n",
    "            \"weather_code\": hourly.Variables(5).ValuesAsNumpy(),\n",
    "        }\n",
    "\n",
    "        hourly_dataframe = pd.DataFrame(data=hourly_data)\n",
    "\n",
    "        # Save to CSV\n",
    "        hourly_dataframe.to_csv(output_file, index=False)\n",
    "        print(f\"Data successfully saved to {output_file}\")\n",
    "\n",
    "    except Exception as e:\n",
    "        print(f\"An error occurred: {e}\")\n",
    "\n",
    "\n",
    "# Example function calling\n",
    "# crawl_weather_data(\"2022-10-01\", \"2024-09-30\", \"weather_data.csv\")"
   ]
  },
  {
   "cell_type": "markdown",
   "metadata": {},
   "source": [
    "#### Crawl weather data for analyzing"
   ]
  },
  {
   "cell_type": "code",
   "execution_count": null,
   "metadata": {},
   "outputs": [],
   "source": [
    "# analyzing data\n",
    "start_date = '2022-10-01'\n",
    "end_date = '2024-09-30'\n",
    "file_name = '../data/hcmc_weather_data.csv'\n",
    "crawl_weather_data(start_date=start_date, end_date=end_date, output_file=file_name)"
   ]
  },
  {
   "cell_type": "markdown",
   "metadata": {},
   "source": [
    "#### Crawl weather data for testing model\n"
   ]
  },
  {
   "cell_type": "code",
   "execution_count": 3,
   "metadata": {},
   "outputs": [
    {
     "name": "stdout",
     "output_type": "stream",
     "text": [
      "Data successfully saved to ../data/test_weather_data.csv\n"
     ]
    }
   ],
   "source": [
    "# testing data\n",
    "start_date = '2024-10-01'\n",
    "end_date = '2024-11-01'\n",
    "file_name = '../data/test_weather_data.csv'\n",
    "crawl_weather_data(start_date=start_date, end_date=end_date, output_file=file_name)\n"
   ]
  },
  {
   "cell_type": "markdown",
   "metadata": {},
   "source": [
    "### Air Quality Data"
   ]
  },
  {
   "cell_type": "markdown",
   "metadata": {},
   "source": [
    "#### Function to crawl air quality data"
   ]
  },
  {
   "cell_type": "code",
   "execution_count": 4,
   "metadata": {},
   "outputs": [],
   "source": [
    "def crawl_aq_data(start_date: str, end_date: str, output_file: str):\n",
    "    \"\"\"\n",
    "    Crawl air quality data from Open-Meteo API and save to CSV file.\n",
    "\n",
    "    Parameters:\n",
    "    - start_date (str): The start date in \"YYYY-MM-DD\" format.\n",
    "    - end_date (str): The end date in \"YYYY-MM-DD\" format.\n",
    "    - output_file (str): The name of the output CSV file.\n",
    "    \"\"\"\n",
    "\n",
    "    # Setup cache and retry mechanism\n",
    "    cache_session = requests_cache.CachedSession(\".cache\", expire_after=-1)\n",
    "    retry_session = retry(cache_session, retries=5, backoff_factor=0.2)\n",
    "    openmeteo = openmeteo_requests.Client(session=retry_session)\n",
    "\n",
    "    # Open-Meteo API endpoint and parameters\n",
    "    url = \"https://air-quality-api.open-meteo.com/v1/air-quality\"\n",
    "    params = {\n",
    "        \"latitude\": 10.823099,\n",
    "        \"longitude\": 106.629664,\n",
    "        \"start_date\": start_date,\n",
    "        \"end_date\": end_date,\n",
    "        \"hourly\": [\n",
    "            \"pm10\",\n",
    "            \"pm2_5\",\n",
    "            \"carbon_monoxide\",\n",
    "            \"nitrogen_dioxide\",\n",
    "            \"sulphur_dioxide\",\n",
    "            \"ozone\",\n",
    "            \"us_aqi\",\n",
    "        ],\n",
    "    }\n",
    "\n",
    "    # Fetch air quality data\n",
    "    try:\n",
    "        responses = openmeteo.weather_api(url, params=params)\n",
    "        response = responses[0]\n",
    "        hourly = response.Hourly()\n",
    "\n",
    "        # Process hourly data\n",
    "        hourly_data = {\n",
    "            \"date_time\": pd.date_range(\n",
    "                start=pd.to_datetime(hourly.Time(), unit=\"s\", utc=True),\n",
    "                end=pd.to_datetime(hourly.TimeEnd(), unit=\"s\", utc=True),\n",
    "                freq=pd.Timedelta(seconds=hourly.Interval()),\n",
    "                inclusive=\"left\",\n",
    "            ),\n",
    "            \"pm10\": hourly.Variables(0).ValuesAsNumpy(),\n",
    "            \"pm2_5\": hourly.Variables(1).ValuesAsNumpy(),\n",
    "            \"carbon_monoxide\": hourly.Variables(2).ValuesAsNumpy(),\n",
    "            \"nitrogen_dioxide\": hourly.Variables(3).ValuesAsNumpy(),\n",
    "            \"sulphur_dioxide\": hourly.Variables(4).ValuesAsNumpy(),\n",
    "            \"ozone\": hourly.Variables(5).ValuesAsNumpy(),\n",
    "            \"us_aqi\": hourly.Variables(6).ValuesAsNumpy(),\n",
    "        }\n",
    "\n",
    "        hourly_dataframe = pd.DataFrame(data=hourly_data)\n",
    "\n",
    "        # Save to CSV\n",
    "        hourly_dataframe.to_csv(output_file, index=False)\n",
    "        print(f\"Data successfully saved to {output_file}\")\n",
    "\n",
    "    except Exception as e:\n",
    "        print(f\"An error occurred: {e}\")\n",
    "\n",
    "\n",
    "# Example usage\n",
    "# crawl_aq_data(\"2022-10-01\", \"2024-09-30\", \".data/hcmc_aq_data.csv\")"
   ]
  },
  {
   "cell_type": "markdown",
   "metadata": {},
   "source": [
    "#### Crawl air quality data for analyzing"
   ]
  },
  {
   "cell_type": "code",
   "execution_count": null,
   "metadata": {},
   "outputs": [],
   "source": [
    "# analyzing data\n",
    "start_date = '2022-10-01'\n",
    "end_date = '2024-09-30'\n",
    "file_name = '../data/hcmc_air_quality_data.csv'\n",
    "crawl_aq_data(start_date=start_date, end_date=end_date, output_file=file_name)"
   ]
  },
  {
   "cell_type": "markdown",
   "metadata": {},
   "source": [
    "#### Crawl air quality data for model testing"
   ]
  },
  {
   "cell_type": "code",
   "execution_count": 6,
   "metadata": {},
   "outputs": [
    {
     "name": "stdout",
     "output_type": "stream",
     "text": [
      "Data successfully saved to ../data/test_air_quality_data.csv\n"
     ]
    }
   ],
   "source": [
    "# testing data\n",
    "start_date = '2024-10-01'\n",
    "end_date = '2024-11-01'\n",
    "file_name = '../data/test_air_quality_data.csv'\n",
    "crawl_aq_data(start_date=start_date, end_date=end_date, output_file=file_name)"
   ]
  }
 ],
 "metadata": {
  "kernelspec": {
   "display_name": "ds_env",
   "language": "python",
   "name": "python3"
  },
  "language_info": {
   "codemirror_mode": {
    "name": "ipython",
    "version": 3
   },
   "file_extension": ".py",
   "mimetype": "text/x-python",
   "name": "python",
   "nbconvert_exporter": "python",
   "pygments_lexer": "ipython3",
   "version": "3.12.0"
  }
 },
 "nbformat": 4,
 "nbformat_minor": 2
}
