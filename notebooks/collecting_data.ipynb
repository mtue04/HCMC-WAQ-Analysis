{
 "cells": [
  {
   "cell_type": "markdown",
   "metadata": {},
   "source": [
    "Data source: [Open-Meteo](https://open-meteo.com/) \\\n",
    "Location: `Ho Chi Minh City` (lat: 10.823099 - long: 106.629664) \\\n",
    "Date: `01/10/2022` to `30/09/2024`"
   ]
  },
  {
   "cell_type": "markdown",
   "metadata": {},
   "source": [
    "# 1. Data Collection\n",
    "## Install and import libraries"
   ]
  },
  {
   "cell_type": "code",
   "execution_count": 1,
   "metadata": {},
   "outputs": [
    {
     "name": "stdout",
     "output_type": "stream",
     "text": [
      "Requirement already satisfied: openmeteo-requests in /home/mtue/miniconda3/envs/min_ds-env2/lib/python3.10/site-packages (1.3.0)\n",
      "Requirement already satisfied: openmeteo-sdk>=1.4.0 in /home/mtue/miniconda3/envs/min_ds-env2/lib/python3.10/site-packages (from openmeteo-requests) (1.17.0)\n",
      "Requirement already satisfied: requests in /home/mtue/miniconda3/envs/min_ds-env2/lib/python3.10/site-packages (from openmeteo-requests) (2.27.1)\n",
      "Requirement already satisfied: flatbuffers>=24.0.0 in /home/mtue/miniconda3/envs/min_ds-env2/lib/python3.10/site-packages (from openmeteo-sdk>=1.4.0->openmeteo-requests) (24.3.25)\n",
      "Requirement already satisfied: urllib3<1.27,>=1.21.1 in /home/mtue/miniconda3/envs/min_ds-env2/lib/python3.10/site-packages (from requests->openmeteo-requests) (1.26.19)\n",
      "Requirement already satisfied: certifi>=2017.4.17 in /home/mtue/miniconda3/envs/min_ds-env2/lib/python3.10/site-packages (from requests->openmeteo-requests) (2024.8.30)\n",
      "Requirement already satisfied: charset-normalizer~=2.0.0 in /home/mtue/miniconda3/envs/min_ds-env2/lib/python3.10/site-packages (from requests->openmeteo-requests) (2.0.12)\n",
      "Requirement already satisfied: idna<4,>=2.5 in /home/mtue/miniconda3/envs/min_ds-env2/lib/python3.10/site-packages (from requests->openmeteo-requests) (3.10)\n",
      "Requirement already satisfied: requests-cache in /home/mtue/miniconda3/envs/min_ds-env2/lib/python3.10/site-packages (0.9.4)\n",
      "Requirement already satisfied: retry-requests in /home/mtue/miniconda3/envs/min_ds-env2/lib/python3.10/site-packages (2.0.0)\n",
      "Requirement already satisfied: appdirs<2.0.0,>=1.4.4 in /home/mtue/miniconda3/envs/min_ds-env2/lib/python3.10/site-packages (from requests-cache) (1.4.4)\n",
      "Requirement already satisfied: attrs<22.0,>=21.2 in /home/mtue/miniconda3/envs/min_ds-env2/lib/python3.10/site-packages (from requests-cache) (21.4.0)\n",
      "Requirement already satisfied: cattrs<2.0,>=1.8 in /home/mtue/miniconda3/envs/min_ds-env2/lib/python3.10/site-packages (from requests-cache) (1.10.0)\n",
      "Requirement already satisfied: requests<3.0,>=2.22 in /home/mtue/miniconda3/envs/min_ds-env2/lib/python3.10/site-packages (from requests-cache) (2.27.1)\n",
      "Requirement already satisfied: url-normalize<2.0,>=1.4 in /home/mtue/miniconda3/envs/min_ds-env2/lib/python3.10/site-packages (from requests-cache) (1.4.3)\n",
      "Requirement already satisfied: urllib3<2.0.0,>=1.25.5 in /home/mtue/miniconda3/envs/min_ds-env2/lib/python3.10/site-packages (from requests-cache) (1.26.19)\n",
      "Requirement already satisfied: certifi>=2017.4.17 in /home/mtue/miniconda3/envs/min_ds-env2/lib/python3.10/site-packages (from requests<3.0,>=2.22->requests-cache) (2024.8.30)\n",
      "Requirement already satisfied: charset-normalizer~=2.0.0 in /home/mtue/miniconda3/envs/min_ds-env2/lib/python3.10/site-packages (from requests<3.0,>=2.22->requests-cache) (2.0.12)\n",
      "Requirement already satisfied: idna<4,>=2.5 in /home/mtue/miniconda3/envs/min_ds-env2/lib/python3.10/site-packages (from requests<3.0,>=2.22->requests-cache) (3.10)\n",
      "Requirement already satisfied: six in /home/mtue/miniconda3/envs/min_ds-env2/lib/python3.10/site-packages (from url-normalize<2.0,>=1.4->requests-cache) (1.16.0)\n"
     ]
    }
   ],
   "source": [
    "!pip install openmeteo-requests\n",
    "!pip install requests-cache retry-requests"
   ]
  },
  {
   "cell_type": "code",
   "execution_count": 2,
   "metadata": {},
   "outputs": [],
   "source": [
    "import openmeteo_requests\n",
    "import requests_cache\n",
    "import pandas as pd\n",
    "from retry_requests import retry"
   ]
  },
  {
   "cell_type": "markdown",
   "metadata": {},
   "source": [
    "## Usage"
   ]
  },
  {
   "cell_type": "markdown",
   "metadata": {},
   "source": [
    "### Weather"
   ]
  },
  {
   "cell_type": "code",
   "execution_count": 3,
   "metadata": {},
   "outputs": [],
   "source": [
    "# Setup the Open-Meteo API for weather data\n",
    "cache_session = requests_cache.CachedSession('.cache', expire_after = -1)\n",
    "retry_session = retry(cache_session, retries = 5, backoff_factor = 0.2)\n",
    "openmeteo = openmeteo_requests.Client(session = retry_session)"
   ]
  },
  {
   "cell_type": "code",
   "execution_count": 4,
   "metadata": {},
   "outputs": [],
   "source": [
    "# Get the weather data\n",
    "url = \"https://archive-api.open-meteo.com/v1/archive\"\n",
    "params = {\n",
    "    \"latitude\": 10.823099,\n",
    "    \"longitude\": 106.629664,\n",
    "    \"start_date\": \"2022-10-01\",\n",
    "    \"end_date\": \"2024-09-30\",\n",
    "    \"hourly\": [\"temperature_2m\", \"relative_humidity_2m\", \"dew_point_2m\", \n",
    "               \"apparent_temperature\", \"precipitation\", \"weather_code\", \"cloud_cover\", \n",
    "               \"vapour_pressure_deficit\", \"wind_speed_10m\", \"wind_direction_10m\"]\n",
    "}\n",
    "responses = openmeteo.weather_api(url, params=params)"
   ]
  },
  {
   "cell_type": "code",
   "execution_count": 5,
   "metadata": {},
   "outputs": [],
   "source": [
    "# Process hourly data\n",
    "response = responses[0]\n",
    "hourly = response.Hourly()\n",
    "hourly_temperature_2m = hourly.Variables(0).ValuesAsNumpy()\n",
    "hourly_relative_humidity_2m = hourly.Variables(1).ValuesAsNumpy()\n",
    "hourly_dew_point_2m = hourly.Variables(2).ValuesAsNumpy()\n",
    "hourly_apparent_temperature = hourly.Variables(3).ValuesAsNumpy()\n",
    "hourly_precipitation = hourly.Variables(4).ValuesAsNumpy()\n",
    "hourly_cloud_cover = hourly.Variables(6).ValuesAsNumpy()\n",
    "hourly_vapour_pressure_deficit = hourly.Variables(7).ValuesAsNumpy()\n",
    "hourly_wind_speed_10m = hourly.Variables(8).ValuesAsNumpy()\n",
    "hourly_wind_direction_10m = hourly.Variables(9).ValuesAsNumpy()\n",
    "hourly_weather_code = hourly.Variables(5).ValuesAsNumpy()\n",
    "\n",
    "hourly_data = {\"date_time\": pd.date_range(\n",
    "\tstart = pd.to_datetime(hourly.Time(), unit = \"s\", utc = True),\n",
    "\tend = pd.to_datetime(hourly.TimeEnd(), unit = \"s\", utc = True),\n",
    "\tfreq = pd.Timedelta(seconds = hourly.Interval()),\n",
    "\tinclusive = \"left\"\n",
    ")}\n",
    "hourly_data[\"temperature_2m\"] = hourly_temperature_2m\n",
    "hourly_data[\"relative_humidity_2m\"] = hourly_relative_humidity_2m\n",
    "hourly_data[\"dew_point_2m\"] = hourly_dew_point_2m\n",
    "hourly_data[\"apparent_temperature\"] = hourly_apparent_temperature\n",
    "hourly_data[\"precipitation\"] = hourly_precipitation\n",
    "hourly_data[\"cloud_cover\"] = hourly_cloud_cover\n",
    "hourly_data[\"vapour_pressure_deficit\"] = hourly_vapour_pressure_deficit\n",
    "hourly_data[\"wind_speed_10m\"] = hourly_wind_speed_10m\n",
    "hourly_data[\"wind_direction_10m\"] = hourly_wind_direction_10m\n",
    "hourly_data[\"weather_code\"] = hourly_weather_code\n",
    "\n",
    "hourly_dataframe = pd.DataFrame(data = hourly_data)"
   ]
  },
  {
   "cell_type": "code",
   "execution_count": 6,
   "metadata": {},
   "outputs": [],
   "source": [
    "# Save data to a CSV file\n",
    "hourly_dataframe.to_csv('../data/hcmc_weather_data.csv', index = False)"
   ]
  },
  {
   "cell_type": "markdown",
   "metadata": {},
   "source": [
    "### Air Quality"
   ]
  },
  {
   "cell_type": "code",
   "execution_count": 7,
   "metadata": {},
   "outputs": [],
   "source": [
    "# Setup the Open-Meteo API for AQ data\n",
    "cache_session = requests_cache.CachedSession('.cache', expire_after = 3600)\n",
    "retry_session = retry(cache_session, retries = 5, backoff_factor = 0.2)\n",
    "openmeteo = openmeteo_requests.Client(session = retry_session)"
   ]
  },
  {
   "cell_type": "code",
   "execution_count": 8,
   "metadata": {},
   "outputs": [],
   "source": [
    "# Get the AQ data\n",
    "url = \"https://air-quality-api.open-meteo.com/v1/air-quality\"\n",
    "params = {\n",
    "\t\"latitude\": 10.823099,\n",
    "\t\"longitude\": 106.629664,\n",
    "\t\"hourly\": [\"pm10\", \"pm2_5\", \"carbon_monoxide\", \"nitrogen_dioxide\", \"sulphur_dioxide\", \"ozone\", \"us_aqi\"],\n",
    "\t\"start_date\": \"2022-10-01\",\n",
    "\t\"end_date\": \"2024-09-30\",\n",
    "}\n",
    "responses = openmeteo.weather_api(url, params=params)"
   ]
  },
  {
   "cell_type": "code",
   "execution_count": 9,
   "metadata": {},
   "outputs": [],
   "source": [
    "# Process hourly data\n",
    "response = responses[0]\n",
    "hourly = response.Hourly()\n",
    "hourly_pm10 = hourly.Variables(0).ValuesAsNumpy()\n",
    "hourly_pm2_5 = hourly.Variables(1).ValuesAsNumpy()\n",
    "hourly_carbon_monoxide = hourly.Variables(2).ValuesAsNumpy()\n",
    "hourly_nitrogen_dioxide = hourly.Variables(3).ValuesAsNumpy()\n",
    "hourly_sulphur_dioxide = hourly.Variables(4).ValuesAsNumpy()\n",
    "hourly_ozone = hourly.Variables(5).ValuesAsNumpy()\n",
    "hourly_us_aqi = hourly.Variables(6).ValuesAsNumpy()\n",
    "\n",
    "hourly_data = {\"date_time\": pd.date_range(\n",
    "\tstart = pd.to_datetime(hourly.Time(), unit = \"s\", utc = True),\n",
    "\tend = pd.to_datetime(hourly.TimeEnd(), unit = \"s\", utc = True),\n",
    "\tfreq = pd.Timedelta(seconds = hourly.Interval()),\n",
    "\tinclusive = \"left\"\n",
    ")}\n",
    "hourly_data[\"pm10\"] = hourly_pm10\n",
    "hourly_data[\"pm2_5\"] = hourly_pm2_5\n",
    "hourly_data[\"carbon_monoxide\"] = hourly_carbon_monoxide\n",
    "hourly_data[\"nitrogen_dioxide\"] = hourly_nitrogen_dioxide\n",
    "hourly_data[\"sulphur_dioxide\"] = hourly_sulphur_dioxide\n",
    "hourly_data[\"ozone\"] = hourly_ozone\n",
    "hourly_data[\"us_aqi\"] = hourly_us_aqi\n",
    "\n",
    "hourly_dataframe = pd.DataFrame(data = hourly_data)"
   ]
  },
  {
   "cell_type": "code",
   "execution_count": 10,
   "metadata": {},
   "outputs": [],
   "source": [
    "# Save data to csv filel\n",
    "hourly_dataframe.to_csv('../data/hcmc_air_quality_data.csv', index = False)"
   ]
  }
 ],
 "metadata": {
  "kernelspec": {
   "display_name": "min_ds-env2",
   "language": "python",
   "name": "python3"
  },
  "language_info": {
   "codemirror_mode": {
    "name": "ipython",
    "version": 3
   },
   "file_extension": ".py",
   "mimetype": "text/x-python",
   "name": "python",
   "nbconvert_exporter": "python",
   "pygments_lexer": "ipython3",
   "version": "3.10.15"
  }
 },
 "nbformat": 4,
 "nbformat_minor": 2
}
