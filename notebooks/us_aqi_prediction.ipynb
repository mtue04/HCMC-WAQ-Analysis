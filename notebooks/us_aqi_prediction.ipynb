{
 "cells": [
  {
   "cell_type": "markdown",
   "metadata": {},
   "source": [
    "# 1. Libraries\n"
   ]
  },
  {
   "cell_type": "code",
   "execution_count": 31,
   "metadata": {},
   "outputs": [],
   "source": [
    "import seaborn as sns\n",
    "import matplotlib.pyplot as plt\n",
    "import pandas as pd\n",
    "import numpy as np\n",
    "import xgboost as xgb\n",
    "\n",
    "from sklearn.ensemble import RandomForestRegressor\n",
    "from statsmodels.tsa.arima.model import ARIMA\n",
    "from sklearn.metrics import mean_squared_error, mean_absolute_error, r2_score\n",
    "from sklearn.model_selection import train_test_split, GridSearchCV\n"
   ]
  },
  {
   "cell_type": "markdown",
   "metadata": {},
   "source": [
    "# 2. Loading dataset and EDA"
   ]
  },
  {
   "cell_type": "code",
   "execution_count": 14,
   "metadata": {},
   "outputs": [
    {
     "data": {
      "text/html": [
       "<div>\n",
       "<style scoped>\n",
       "    .dataframe tbody tr th:only-of-type {\n",
       "        vertical-align: middle;\n",
       "    }\n",
       "\n",
       "    .dataframe tbody tr th {\n",
       "        vertical-align: top;\n",
       "    }\n",
       "\n",
       "    .dataframe thead th {\n",
       "        text-align: right;\n",
       "    }\n",
       "</style>\n",
       "<table border=\"1\" class=\"dataframe\">\n",
       "  <thead>\n",
       "    <tr style=\"text-align: right;\">\n",
       "      <th></th>\n",
       "      <th>date_time</th>\n",
       "      <th>temperature_2m</th>\n",
       "      <th>relative_humidity_2m</th>\n",
       "      <th>dew_point_2m</th>\n",
       "      <th>apparent_temperature</th>\n",
       "      <th>precipitation</th>\n",
       "      <th>cloud_cover</th>\n",
       "      <th>vapour_pressure_deficit</th>\n",
       "      <th>wind_speed_10m</th>\n",
       "      <th>wind_direction_10m</th>\n",
       "      <th>pm10</th>\n",
       "      <th>pm2_5</th>\n",
       "      <th>carbon_monoxide</th>\n",
       "      <th>nitrogen_dioxide</th>\n",
       "      <th>sulphur_dioxide</th>\n",
       "      <th>ozone</th>\n",
       "      <th>us_aqi</th>\n",
       "      <th>weather_status</th>\n",
       "    </tr>\n",
       "  </thead>\n",
       "  <tbody>\n",
       "    <tr>\n",
       "      <th>0</th>\n",
       "      <td>2022-10-01 07:00:00</td>\n",
       "      <td>25.511000</td>\n",
       "      <td>94.49476</td>\n",
       "      <td>24.561</td>\n",
       "      <td>31.543438</td>\n",
       "      <td>1.3</td>\n",
       "      <td>44.700000</td>\n",
       "      <td>0.179606</td>\n",
       "      <td>2.902413</td>\n",
       "      <td>209.74480</td>\n",
       "      <td>61.2</td>\n",
       "      <td>42.1</td>\n",
       "      <td>1123.0</td>\n",
       "      <td>50.80</td>\n",
       "      <td>11.50</td>\n",
       "      <td>4.0</td>\n",
       "      <td>73.652490</td>\n",
       "      <td>Light Rain</td>\n",
       "    </tr>\n",
       "    <tr>\n",
       "      <th>1</th>\n",
       "      <td>2022-10-01 08:00:00</td>\n",
       "      <td>26.411001</td>\n",
       "      <td>88.26100</td>\n",
       "      <td>24.311</td>\n",
       "      <td>31.320229</td>\n",
       "      <td>0.6</td>\n",
       "      <td>55.500000</td>\n",
       "      <td>0.403905</td>\n",
       "      <td>9.504272</td>\n",
       "      <td>232.69597</td>\n",
       "      <td>36.9</td>\n",
       "      <td>24.9</td>\n",
       "      <td>906.0</td>\n",
       "      <td>43.05</td>\n",
       "      <td>11.25</td>\n",
       "      <td>14.0</td>\n",
       "      <td>76.471634</td>\n",
       "      <td>Moderate Drizzle</td>\n",
       "    </tr>\n",
       "    <tr>\n",
       "      <th>2</th>\n",
       "      <td>2022-10-01 09:00:00</td>\n",
       "      <td>26.911001</td>\n",
       "      <td>88.03870</td>\n",
       "      <td>24.761</td>\n",
       "      <td>32.211530</td>\n",
       "      <td>0.7</td>\n",
       "      <td>46.200005</td>\n",
       "      <td>0.423807</td>\n",
       "      <td>8.788720</td>\n",
       "      <td>214.99210</td>\n",
       "      <td>28.0</td>\n",
       "      <td>18.5</td>\n",
       "      <td>598.0</td>\n",
       "      <td>31.95</td>\n",
       "      <td>10.90</td>\n",
       "      <td>27.0</td>\n",
       "      <td>77.597520</td>\n",
       "      <td>Moderate Drizzle</td>\n",
       "    </tr>\n",
       "    <tr>\n",
       "      <th>3</th>\n",
       "      <td>2022-10-01 10:00:00</td>\n",
       "      <td>28.011000</td>\n",
       "      <td>85.29904</td>\n",
       "      <td>25.311</td>\n",
       "      <td>33.920822</td>\n",
       "      <td>0.6</td>\n",
       "      <td>100.000000</td>\n",
       "      <td>0.555415</td>\n",
       "      <td>7.072878</td>\n",
       "      <td>194.74360</td>\n",
       "      <td>24.2</td>\n",
       "      <td>15.9</td>\n",
       "      <td>281.0</td>\n",
       "      <td>19.70</td>\n",
       "      <td>10.50</td>\n",
       "      <td>48.0</td>\n",
       "      <td>78.182625</td>\n",
       "      <td>Moderate Drizzle</td>\n",
       "    </tr>\n",
       "    <tr>\n",
       "      <th>4</th>\n",
       "      <td>2022-10-01 11:00:00</td>\n",
       "      <td>29.011000</td>\n",
       "      <td>78.12226</td>\n",
       "      <td>24.811</td>\n",
       "      <td>34.491055</td>\n",
       "      <td>0.4</td>\n",
       "      <td>100.000000</td>\n",
       "      <td>0.875935</td>\n",
       "      <td>7.754637</td>\n",
       "      <td>201.80147</td>\n",
       "      <td>26.0</td>\n",
       "      <td>17.1</td>\n",
       "      <td>213.0</td>\n",
       "      <td>14.25</td>\n",
       "      <td>10.50</td>\n",
       "      <td>67.0</td>\n",
       "      <td>78.430855</td>\n",
       "      <td>Light Drizzle</td>\n",
       "    </tr>\n",
       "  </tbody>\n",
       "</table>\n",
       "</div>"
      ],
      "text/plain": [
       "             date_time  temperature_2m  relative_humidity_2m  dew_point_2m  \\\n",
       "0  2022-10-01 07:00:00       25.511000              94.49476        24.561   \n",
       "1  2022-10-01 08:00:00       26.411001              88.26100        24.311   \n",
       "2  2022-10-01 09:00:00       26.911001              88.03870        24.761   \n",
       "3  2022-10-01 10:00:00       28.011000              85.29904        25.311   \n",
       "4  2022-10-01 11:00:00       29.011000              78.12226        24.811   \n",
       "\n",
       "   apparent_temperature  precipitation  cloud_cover  vapour_pressure_deficit  \\\n",
       "0             31.543438            1.3    44.700000                 0.179606   \n",
       "1             31.320229            0.6    55.500000                 0.403905   \n",
       "2             32.211530            0.7    46.200005                 0.423807   \n",
       "3             33.920822            0.6   100.000000                 0.555415   \n",
       "4             34.491055            0.4   100.000000                 0.875935   \n",
       "\n",
       "   wind_speed_10m  wind_direction_10m  pm10  pm2_5  carbon_monoxide  \\\n",
       "0        2.902413           209.74480  61.2   42.1           1123.0   \n",
       "1        9.504272           232.69597  36.9   24.9            906.0   \n",
       "2        8.788720           214.99210  28.0   18.5            598.0   \n",
       "3        7.072878           194.74360  24.2   15.9            281.0   \n",
       "4        7.754637           201.80147  26.0   17.1            213.0   \n",
       "\n",
       "   nitrogen_dioxide  sulphur_dioxide  ozone     us_aqi    weather_status  \n",
       "0             50.80            11.50    4.0  73.652490        Light Rain  \n",
       "1             43.05            11.25   14.0  76.471634  Moderate Drizzle  \n",
       "2             31.95            10.90   27.0  77.597520  Moderate Drizzle  \n",
       "3             19.70            10.50   48.0  78.182625  Moderate Drizzle  \n",
       "4             14.25            10.50   67.0  78.430855     Light Drizzle  "
      ]
     },
     "execution_count": 14,
     "metadata": {},
     "output_type": "execute_result"
    }
   ],
   "source": [
    "data = pd.read_csv('../data/clean_hcmc_waq.csv', delimiter=\",\")\n",
    "data.head()"
   ]
  },
  {
   "cell_type": "code",
   "execution_count": 15,
   "metadata": {},
   "outputs": [
    {
     "data": {
      "text/plain": [
       "Index(['date_time', 'temperature_2m', 'relative_humidity_2m', 'dew_point_2m',\n",
       "       'apparent_temperature', 'precipitation', 'cloud_cover',\n",
       "       'vapour_pressure_deficit', 'wind_speed_10m', 'wind_direction_10m',\n",
       "       'pm10', 'pm2_5', 'carbon_monoxide', 'nitrogen_dioxide',\n",
       "       'sulphur_dioxide', 'ozone', 'us_aqi', 'weather_status'],\n",
       "      dtype='object')"
      ]
     },
     "execution_count": 15,
     "metadata": {},
     "output_type": "execute_result"
    }
   ],
   "source": [
    "data.keys()"
   ]
  },
  {
   "cell_type": "code",
   "execution_count": 16,
   "metadata": {},
   "outputs": [
    {
     "name": "stdout",
     "output_type": "stream",
     "text": [
      "<class 'pandas.core.frame.DataFrame'>\n",
      "RangeIndex: 17544 entries, 0 to 17543\n",
      "Data columns (total 18 columns):\n",
      " #   Column                   Non-Null Count  Dtype  \n",
      "---  ------                   --------------  -----  \n",
      " 0   date_time                17544 non-null  object \n",
      " 1   temperature_2m           17544 non-null  float64\n",
      " 2   relative_humidity_2m     17544 non-null  float64\n",
      " 3   dew_point_2m             17544 non-null  float64\n",
      " 4   apparent_temperature     17544 non-null  float64\n",
      " 5   precipitation            17544 non-null  float64\n",
      " 6   cloud_cover              17544 non-null  float64\n",
      " 7   vapour_pressure_deficit  17544 non-null  float64\n",
      " 8   wind_speed_10m           17544 non-null  float64\n",
      " 9   wind_direction_10m       17544 non-null  float64\n",
      " 10  pm10                     17544 non-null  float64\n",
      " 11  pm2_5                    17544 non-null  float64\n",
      " 12  carbon_monoxide          17544 non-null  float64\n",
      " 13  nitrogen_dioxide         17544 non-null  float64\n",
      " 14  sulphur_dioxide          17544 non-null  float64\n",
      " 15  ozone                    17544 non-null  float64\n",
      " 16  us_aqi                   17544 non-null  float64\n",
      " 17  weather_status           17544 non-null  object \n",
      "dtypes: float64(16), object(2)\n",
      "memory usage: 2.4+ MB\n"
     ]
    }
   ],
   "source": [
    "data.info()"
   ]
  },
  {
   "cell_type": "code",
   "execution_count": 17,
   "metadata": {},
   "outputs": [
    {
     "data": {
      "text/plain": [
       "([0, 1, 2, 3, 4, 5, 6, 7, 8, 9],\n",
       " [Text(0, 0, 'Light Rain'),\n",
       "  Text(1, 0, 'Moderate Drizzle'),\n",
       "  Text(2, 0, 'Light Drizzle'),\n",
       "  Text(3, 0, 'Moderate Rain'),\n",
       "  Text(4, 0, 'Overcast'),\n",
       "  Text(5, 0, 'Heavy Rain'),\n",
       "  Text(6, 0, 'Dense Drizzle'),\n",
       "  Text(7, 0, 'Partly Cloudy'),\n",
       "  Text(8, 0, 'Mainly Clear'),\n",
       "  Text(9, 0, 'Clear Sky')])"
      ]
     },
     "execution_count": 17,
     "metadata": {},
     "output_type": "execute_result"
    },
    {
     "data": {
      "image/png": "[encoded data removed]",
      "text/plain": [
       "<Figure size 800x800 with 1 Axes>"
      ]
     },
     "metadata": {},
     "output_type": "display_data"
    }
   ],
   "source": [
    "plt.figure(figsize=(8, 8))\n",
    "sns.histplot(data['weather_status'])\n",
    "plt.title('Distribution of weather status')\n",
    "plt.xticks(rotation=45)"
   ]
  },
  {
   "cell_type": "markdown",
   "metadata": {},
   "source": [
    "# 3. Preprocessing dataset"
   ]
  },
  {
   "cell_type": "code",
   "execution_count": 18,
   "metadata": {},
   "outputs": [],
   "source": [
    "data['date_time'] = pd.to_datetime(data['date_time'])\n",
    "data.set_index('date_time', inplace=True)\n",
    "data = data.sort_index()"
   ]
  },
  {
   "cell_type": "code",
   "execution_count": 22,
   "metadata": {},
   "outputs": [
    {
     "name": "stderr",
     "output_type": "stream",
     "text": [
      "/home/van/anaconda3/lib/python3.12/site-packages/statsmodels/tsa/base/tsa_model.py:473: ValueWarning: No frequency information was provided, so inferred frequency h will be used.\n",
      "  self._init_dates(dates, freq)\n",
      "/home/van/anaconda3/lib/python3.12/site-packages/statsmodels/tsa/base/tsa_model.py:473: ValueWarning: No frequency information was provided, so inferred frequency h will be used.\n",
      "  self._init_dates(dates, freq)\n",
      "/home/van/anaconda3/lib/python3.12/site-packages/statsmodels/tsa/base/tsa_model.py:473: ValueWarning: No frequency information was provided, so inferred frequency h will be used.\n",
      "  self._init_dates(dates, freq)\n"
     ]
    },
    {
     "name": "stdout",
     "output_type": "stream",
     "text": [
      "MAE: 18.320959518614536, MSE: 531.1428166168454\n"
     ]
    }
   ],
   "source": [
    "\n",
    "# Tạo các feature giải thích (exogenous variables)\n",
    "exog_features = data[['temperature_2m', 'relative_humidity_2m', 'wind_speed_10m']]  # Thêm các feature cần thiết vào đây\n",
    "\n",
    "# Target variable\n",
    "target = data['us_aqi']\n",
    "\n",
    "# Train-test split\n",
    "train_size = int(len(target) * 0.8)\n",
    "train, test = target[:train_size], target[train_size:]\n",
    "exog_train, exog_test = exog_features[:train_size], exog_features[train_size:]\n",
    "\n",
    "# Fit ARIMAX model (ARIMA with exogenous variables)\n",
    "model = ARIMA(train, exog=exog_train, order=(1, 1, 1))  # (p, d, q) cần tùy chỉnh\n",
    "arimax_model = model.fit()\n",
    "\n",
    "# Dự báo với các biến giải thích từ tập kiểm tra\n",
    "forecast = arimax_model.forecast(steps=len(test), exog=exog_test)\n",
    "\n",
    "# Đánh giá mô hình\n",
    "mae = mean_absolute_error(test, forecast)\n",
    "mse = mean_squared_error(test, forecast)\n",
    "print(f'MAE: {mae}, MSE: {mse}')\n"
   ]
  },
  {
   "cell_type": "code",
   "execution_count": null,
   "metadata": {},
   "outputs": [
    {
     "name": "stderr",
     "output_type": "stream",
     "text": [
      "/home/van/anaconda3/lib/python3.12/site-packages/statsmodels/tsa/base/tsa_model.py:473: ValueWarning: No frequency information was provided, so inferred frequency h will be used.\n",
      "  self._init_dates(dates, freq)\n",
      "/home/van/anaconda3/lib/python3.12/site-packages/statsmodels/tsa/base/tsa_model.py:473: ValueWarning: No frequency information was provided, so inferred frequency h will be used.\n",
      "  self._init_dates(dates, freq)\n",
      "/home/van/anaconda3/lib/python3.12/site-packages/statsmodels/tsa/base/tsa_model.py:473: ValueWarning: No frequency information was provided, so inferred frequency h will be used.\n",
      "  self._init_dates(dates, freq)\n"
     ]
    },
    {
     "name": "stdout",
     "output_type": "stream",
     "text": [
      "MAE: 18.33404655175873, MSE: 531.8400473972619\n"
     ]
    }
   ],
   "source": [
    "target = data['us_aqi']\n",
    "\n",
    "train_size = int(len(target) * 0.8)\n",
    "train, test = target[:train_size], target[train_size:]\n",
    "\n",
    "# Fit ARIMA model\n",
    "model1 = ARIMA(train, order=(1, 1, 1))\n",
    "arima_model1 = model1.fit()\n",
    "forecast = arima_model1.forecast(steps=len(test))\n",
    "\n",
    "mae = mean_absolute_error(test, forecast)\n",
    "mse = mean_squared_error(test, forecast)\n",
    "print(f'MAE: {mae}, MSE: {mse}')"
   ]
  },
  {
   "cell_type": "code",
   "execution_count": 32,
   "metadata": {},
   "outputs": [
    {
     "name": "stdout",
     "output_type": "stream",
     "text": [
      "MAE: 12.037120979193503\n",
      "MSE: 240.8376793587186\n",
      "R2 Score: 0.026368860761532997\n"
     ]
    }
   ],
   "source": [
    "\n",
    "# Extract datetime features (year, month, day, hour, etc.)\n",
    "data['year'] = data.index.year\n",
    "data['month'] = data.index.month\n",
    "data['day'] = data.index.day\n",
    "data['day_of_week'] = data.index.dayofweek\n",
    "data['hour'] = data.index.hour\n",
    "data['minute'] = data.index.minute\n",
    "\n",
    "# Select features (X) and target (y)\n",
    "features = ['temperature_2m', 'relative_humidity_2m', 'dew_point_2m', \n",
    "            'apparent_temperature', 'precipitation', 'cloud_cover', \n",
    "            'vapour_pressure_deficit', 'wind_speed_10m', 'wind_direction_10m',\n",
    "            'pm10', 'pm2_5', 'carbon_monoxide', 'nitrogen_dioxide', \n",
    "            'sulphur_dioxide', 'ozone', 'year', 'month', 'day', 'day_of_week', 'hour', 'minute']\n",
    "target = 'us_aqi'\n",
    "\n",
    "X = data[features]  # Features\n",
    "y = data[target]    # Target\n",
    "\n",
    "# Train-test split\n",
    "X_train, X_test, y_train, y_test = train_test_split(X, y, test_size=0.2, shuffle=False)\n",
    "\n",
    "# Initialize and train Random Forest Regressor\n",
    "rf_model = RandomForestRegressor(n_estimators=100, random_state=42)\n",
    "rf_model.fit(X_train, y_train)\n",
    "\n",
    "# Make predictions\n",
    "y_pred = rf_model.predict(X_test)\n",
    "\n",
    "# Evaluate the model\n",
    "mae = mean_absolute_error(y_test, y_pred)\n",
    "mse = mean_squared_error(y_test, y_pred)\n",
    "r2 = r2_score(y_test, y_pred)\n",
    "\n",
    "print(f'MAE: {mae}')\n",
    "print(f'MSE: {mse}')\n",
    "print(f'R2 Score: {r2}')"
   ]
  },
  {
   "cell_type": "code",
   "execution_count": null,
   "metadata": {},
   "outputs": [],
   "source": [
    "param_grid = {\n",
    "    'n_estimators': [100, 200],\n",
    "    'max_depth': [10, 20],\n",
    "    'min_samples_split': [5, 10],\n",
    "    'min_samples_leaf': [1, 4]\n",
    "}\n",
    "\n",
    "grid_search = GridSearchCV(estimator=RandomForestRegressor(random_state=42), param_grid=param_grid, cv=5)\n",
    "grid_search.fit(X_train, y_train)\n",
    "\n",
    "print(f'Best parameters: {grid_search.best_params_}')"
   ]
  },
  {
   "cell_type": "code",
   "execution_count": null,
   "metadata": {},
   "outputs": [],
   "source": [
    "\n",
    "X = data[features]  # Features\n",
    "y = data[target]    # Target\n",
    "\n",
    "# Train-test split\n",
    "X_train, X_test, y_train, y_test = train_test_split(X, y, test_size=0.2, shuffle=False)\n",
    "\n",
    "# Initialize and train Random Forest Regressor\n",
    "rf_model = RandomForestRegressor(n_estimators=100, random_state=42)\n",
    "rf_model.fit(X_train, y_train)\n",
    "\n",
    "# Make predictions\n",
    "y_pred = rf_model.predict(X_test)\n",
    "\n",
    "# Evaluate the model\n",
    "mae = mean_absolute_error(y_test, y_pred)\n",
    "mse = mean_squared_error(y_test, y_pred)\n",
    "r2 = r2_score(y_test, y_pred)\n",
    "\n",
    "print(f'MAE: {mae}')\n",
    "print(f'MSE: {mse}')\n",
    "print(f'R2 Score: {r2}')"
   ]
  },
  {
   "cell_type": "code",
   "execution_count": null,
   "metadata": {},
   "outputs": [],
   "source": [
    "param_grid = {\n",
    "    'n_estimators': [100, 200, 300],\n",
    "    'learning_rate': [0.01, 0.1],\n",
    "    'max_depth': [3, 5, 7],\n",
    "    'subsample': [0.8, 1.0],\n",
    "    'colsample_bytree': [0.8, 1.0]\n",
    "}\n",
    "\n",
    "grid_search = GridSearchCV(estimator=XGBRegressor(random_state=42), param_grid=param_grid, scoring='neg_mean_squared_error')\n",
    "grid_search.fit(X_train, y_train)\n",
    "\n",
    "print(f'Best parameters: {grid_search.best_params_}')"
   ]
  }
 ],
 "metadata": {
  "kernelspec": {
   "display_name": "base",
   "language": "python",
   "name": "python3"
  },
  "language_info": {
   "codemirror_mode": {
    "name": "ipython",
    "version": 3
   },
   "file_extension": ".py",
   "mimetype": "text/x-python",
   "name": "python",
   "nbconvert_exporter": "python",
   "pygments_lexer": "ipython3",
   "version": "3.12.7"
  }
 },
 "nbformat": 4,
 "nbformat_minor": 2
}
